{
 "cells": [
  {
   "cell_type": "code",
   "execution_count": 1,
   "metadata": {},
   "outputs": [
    {
     "name": "stdout",
     "output_type": "stream",
     "text": [
      "10 14\n"
     ]
    }
   ],
   "source": [
    "import math\n",
    "import os\n",
    "import random\n",
    "import re\n",
    "import sys\n",
    "\n",
    "def miniMaxSum(arr):\n",
    "    calc_sum = sum(arr)\n",
    "    min_sum = calc_sum - max(arr)\n",
    "    max_sum = calc_sum - min(arr)\n",
    "    return [min_sum, max_sum]\n",
    "\n",
    "\n",
    "if __name__ == '__main__':\n",
    "    arr = [1,2,3,4,5]\n",
    "    max_min_list = miniMaxSum(arr)\n",
    "    print(max_min_list[0], max_min_list[1])\n"
   ]
  },
  {
   "cell_type": "code",
   "execution_count": null,
   "metadata": {},
   "outputs": [],
   "source": []
  }
 ],
 "metadata": {
  "kernelspec": {
   "display_name": "Python 3",
   "language": "python",
   "name": "python3"
  },
  "language_info": {
   "codemirror_mode": {
    "name": "ipython",
    "version": 3
   },
   "file_extension": ".py",
   "mimetype": "text/x-python",
   "name": "python",
   "nbconvert_exporter": "python",
   "pygments_lexer": "ipython3",
   "version": "3.7.3"
  }
 },
 "nbformat": 4,
 "nbformat_minor": 2
}
