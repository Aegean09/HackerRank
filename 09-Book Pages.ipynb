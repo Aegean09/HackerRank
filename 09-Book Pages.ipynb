{
 "cells": [
  {
   "cell_type": "code",
   "execution_count": null,
   "metadata": {},
   "outputs": [],
   "source": [
    "import math\n",
    "import os\n",
    "import random\n",
    "import re\n",
    "import sys\n",
    "\n",
    "def pageCount(n, p):\n",
    "    count=0\n",
    "    fromFront=False\n",
    "    if (n/2>p):\n",
    "        fromFront=True\n",
    "    \n",
    "    if(fromFront==True):\n",
    "        page=1\n",
    "        while(page<p):\n",
    "            page+=2\n",
    "            count+=1\n",
    "    else:\n",
    "        page=n\n",
    "        while(page>p):\n",
    "            if(page==p+1):\n",
    "                break\n",
    "            else:\n",
    "                page-=2\n",
    "                count+=1\n",
    "            \n",
    "    if(n%2==1):\n",
    "        if(n==p+1):\n",
    "            count=0\n",
    "    else:\n",
    "        if(n==p+1):\n",
    "            count=1\n",
    "    if p==1 or p==n:\n",
    "        count=0\n",
    "            \n",
    "            \n",
    "    \n",
    "    return(count)\n",
    "    # Write your code here\n",
    "\n",
    "if __name__ == '__main__':\n",
    "    fptr = open(os.environ['OUTPUT_PATH'], 'w')\n",
    "\n",
    "    n = int(input().strip())\n",
    "\n",
    "    p = int(input().strip())\n",
    "\n",
    "    result = pageCount(n, p)\n",
    "\n",
    "    fptr.write(str(result) + '\\n')\n",
    "\n",
    "    fptr.close()"
   ]
  }
 ],
 "metadata": {
  "kernelspec": {
   "display_name": "Python 3",
   "language": "python",
   "name": "python3"
  },
  "language_info": {
   "codemirror_mode": {
    "name": "ipython",
    "version": 3
   },
   "file_extension": ".py",
   "mimetype": "text/x-python",
   "name": "python",
   "nbconvert_exporter": "python",
   "pygments_lexer": "ipython3",
   "version": "3.7.3"
  }
 },
 "nbformat": 4,
 "nbformat_minor": 2
}
