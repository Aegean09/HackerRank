{
 "cells": [
  {
   "cell_type": "code",
   "execution_count": 1,
   "metadata": {},
   "outputs": [
    {
     "name": "stdout",
     "output_type": "stream",
     "text": [
      "00:03:22\n"
     ]
    }
   ],
   "source": [
    "import os\n",
    "import sys\n",
    "\n",
    "def timeConversion(s):\n",
    "    a=\"\"\n",
    "    stopPoint=len(s)-2\n",
    "    if(s[-2:]==\"PM\"):\n",
    "        if(int(s[0:2])!=12):\n",
    "            a=str(int(s[0:2])+12)+s[2:stopPoint]\n",
    "            print(a)\n",
    "        else:\n",
    "            a=s[0:stopPoint]\n",
    "    else:\n",
    "        if(int(s[0:2])!=12):\n",
    "            a=s[0:stopPoint]\n",
    "        else:\n",
    "            a=\"00\"+s[2:stopPoint]\n",
    " \n",
    "    return a\n",
    "\n",
    "if __name__ == '__main__':\n",
    "    s = \"12:03:22AM\"\n",
    "    result = timeConversion(s)\n",
    "    print(result)"
   ]
  },
  {
   "cell_type": "code",
   "execution_count": null,
   "metadata": {},
   "outputs": [],
   "source": []
  }
 ],
 "metadata": {
  "kernelspec": {
   "display_name": "Python 3",
   "language": "python",
   "name": "python3"
  },
  "language_info": {
   "codemirror_mode": {
    "name": "ipython",
    "version": 3
   },
   "file_extension": ".py",
   "mimetype": "text/x-python",
   "name": "python",
   "nbconvert_exporter": "python",
   "pygments_lexer": "ipython3",
   "version": "3.7.3"
  }
 },
 "nbformat": 4,
 "nbformat_minor": 2
}
