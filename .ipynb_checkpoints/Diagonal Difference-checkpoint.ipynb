{
 "cells": [
  {
   "cell_type": "code",
   "execution_count": 21,
   "metadata": {},
   "outputs": [
    {
     "name": "stdout",
     "output_type": "stream",
     "text": [
      "20\n"
     ]
    }
   ],
   "source": [
    "import math\n",
    "import os\n",
    "import random\n",
    "import re\n",
    "import sys\n",
    "\n",
    "def diagonalDifference(arr):\n",
    "    sumR=0\n",
    "    sumL=0\n",
    "    l=len(arr)\n",
    "    li=len(arr[0])-1\n",
    "    for i in range(l):\n",
    "        sumR=sumR+arr[i][i]\n",
    "        sumL=sumL+arr[i][li-i]   \n",
    "    result=sumR-sumL\n",
    "    if result<0:\n",
    "        result=result*-1\n",
    "    return result         \n",
    "\n",
    "#[[11, 2, 4], [4, 5, 6], [10, 8, -12]]\n",
    "if __name__ == '__main__':\n",
    "    \n",
    "    arr=[[11,2,4,10], \n",
    "         [4,5,6,10],\n",
    "         [10,8,-12,10],\n",
    "         [10,8,-12,10]]\n",
    "    result = diagonalDifference(arr)\n",
    "    print(result)"
   ]
  },
  {
   "cell_type": "code",
   "execution_count": null,
   "metadata": {},
   "outputs": [],
   "source": []
  }
 ],
 "metadata": {
  "kernelspec": {
   "display_name": "Python 3",
   "language": "python",
   "name": "python3"
  },
  "language_info": {
   "codemirror_mode": {
    "name": "ipython",
    "version": 3
   },
   "file_extension": ".py",
   "mimetype": "text/x-python",
   "name": "python",
   "nbconvert_exporter": "python",
   "pygments_lexer": "ipython3",
   "version": "3.7.3"
  }
 },
 "nbformat": 4,
 "nbformat_minor": 2
}
